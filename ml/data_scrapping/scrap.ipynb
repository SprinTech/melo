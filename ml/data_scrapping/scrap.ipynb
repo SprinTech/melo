{
 "cells": [
  {
   "cell_type": "markdown",
   "metadata": {},
   "source": [
    "# Scrapping training data from Spotify API\n",
    "## Spotify API login"
   ]
  },
  {
   "cell_type": "code",
   "execution_count": null,
   "metadata": {},
   "outputs": [],
   "source": [
    "import spotipy\n",
    "\n",
    "from spotipy.oauth2 import SpotifyClientCredentials\n",
    "\n",
    "client_id = \"078c39e69bf64995bb1bd3d6df37d557\"\n",
    "client_secret=\"855d6393e9e941f2aa359d8d58a9b1ff\"\n",
    "spotify = spotipy.Spotify(client_credentials_manager=SpotifyClientCredentials(client_id, client_secret))"
   ]
  },
  {
   "cell_type": "markdown",
   "metadata": {},
   "source": [
    "## Scrapping"
   ]
  },
  {
   "cell_type": "code",
   "execution_count": null,
   "metadata": {},
   "outputs": [],
   "source": [
    "import os\n",
    "import requests\n",
    "from tqdm import tqdm\n",
    "\n",
    "genres = spotify.recommendation_genre_seeds()[\"genres\"]\n",
    "\n",
    "tracks_previews = {}\n",
    "offsets = [i for i in range(0, 1050, 50)]\n",
    "\n",
    "# number of results is limited to 50 so we loop queries\n",
    "for i, offset in enumerate(offsets):\n",
    "    print(f\"run {i+1}/{len(offsets)}\")\n",
    "    for genre in genres:\n",
    "        print(\"processing\", genre)\n",
    "        list_by_genre= []\n",
    "        tracks = spotify.search(q=genre, limit=50, offset=offset, type=\"track\")\n",
    "        for track in tracks[\"tracks\"][\"items\"]:\n",
    "            preview = track[\"preview_url\"]\n",
    "            if preview:       \n",
    "                list_by_genre.append(track[\"preview_url\"])\n",
    "        tracks_previews[genre] = list_by_genre\n",
    "        genre_dir = os.path.join(\"genres\", genre)\n",
    "        if not os.path.exists(genre_dir): os.makedirs(genre_dir)\n",
    "        for url in tqdm(tracks_previews[genre]):\n",
    "            i = len(os.listdir(genre_dir))\n",
    "            r = requests.get(url)\n",
    "            with open(os.path.join(genre_dir, str(i+1)) + \".mp3\", \"wb\") as f:\n",
    "                f.write(r.content)"
   ]
  }
 ],
 "metadata": {
  "kernelspec": {
   "display_name": "Python 3.8.12 ('sound')",
   "language": "python",
   "name": "python3"
  },
  "language_info": {
   "codemirror_mode": {
    "name": "ipython",
    "version": 3
   },
   "file_extension": ".py",
   "mimetype": "text/x-python",
   "name": "python",
   "nbconvert_exporter": "python",
   "pygments_lexer": "ipython3",
   "version": "3.8.12"
  },
  "orig_nbformat": 4,
  "vscode": {
   "interpreter": {
    "hash": "115c9510cb649dc8f01565d649709ce1cc09e0d785045a885b5d88662640fd38"
   }
  }
 },
 "nbformat": 4,
 "nbformat_minor": 2
}
